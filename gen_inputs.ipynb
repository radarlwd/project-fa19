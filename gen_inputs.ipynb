{
 "cells": [
  {
   "cell_type": "markdown",
   "metadata": {
    "toc": true
   },
   "source": [
    "<h1>Table of Contents<span class=\"tocSkip\"></span></h1>\n",
    "<div class=\"toc\"><ul class=\"toc-item\"><li><span><a href=\"#Constants\" data-toc-modified-id=\"Constants-1\"><span class=\"toc-item-num\">1&nbsp;&nbsp;</span>Constants</a></span></li><li><span><a href=\"#Utils\" data-toc-modified-id=\"Utils-2\"><span class=\"toc-item-num\">2&nbsp;&nbsp;</span>Utils</a></span></li><li><span><a href=\"#NetworkX-tutorials\" data-toc-modified-id=\"NetworkX-tutorials-3\"><span class=\"toc-item-num\">3&nbsp;&nbsp;</span>NetworkX tutorials</a></span></li><li><span><a href=\"#Method-1:-Randomly-generate-triangles-and-connect-them-together\" data-toc-modified-id=\"Method-1:-Randomly-generate-triangles-and-connect-them-together-4\"><span class=\"toc-item-num\">4&nbsp;&nbsp;</span>Method 1: Randomly generate triangles and connect them together</a></span></li><li><span><a href=\"#Method-2:-Complete-Graph-with-Random-Weights-Adjusted\" data-toc-modified-id=\"Method-2:-Complete-Graph-with-Random-Weights-Adjusted-5\"><span class=\"toc-item-num\">5&nbsp;&nbsp;</span>Method 2: Complete Graph with Random Weights Adjusted</a></span></li><li><span><a href=\"#Method-3:-Generate-Random-Coordinates-Within-Bounds\" data-toc-modified-id=\"Method-3:-Generate-Random-Coordinates-Within-Bounds-6\"><span class=\"toc-item-num\">6&nbsp;&nbsp;</span>Method 3: Generate Random Coordinates Within Bounds</a></span></li><li><span><a href=\"#Formatting-Inputs,-Outputs\" data-toc-modified-id=\"Formatting-Inputs,-Outputs-7\"><span class=\"toc-item-num\">7&nbsp;&nbsp;</span>Formatting Inputs, Outputs</a></span></li><li><span><a href=\"#Save-and-Load-a-Graph-Object-from-File-Using-Pickle\" data-toc-modified-id=\"Save-and-Load-a-Graph-Object-from-File-Using-Pickle-8\"><span class=\"toc-item-num\">8&nbsp;&nbsp;</span>Save and Load a Graph Object from File Using Pickle</a></span></li></ul></div>"
   ]
  },
  {
   "cell_type": "code",
   "execution_count": null,
   "metadata": {},
   "outputs": [],
   "source": [
    "import networkx as nx\n",
    "import matplotlib.pyplot as plt\n",
    "import random as rd\n",
    "import csv\n",
    "import numpy as np\n",
    "import math"
   ]
  },
  {
   "cell_type": "markdown",
   "metadata": {},
   "source": [
    "# Constants"
   ]
  },
  {
   "cell_type": "code",
   "execution_count": null,
   "metadata": {},
   "outputs": [],
   "source": [
    "# Constants\n",
    "MAX = 2e9  # maximum value of edge weight\n",
    "MIN = 1  # minimum value of edge weight (not real min because we account for FACTOR)\n",
    "NUM_DEC = 5  # number of decimal numbers for rounding\n",
    "FACTOR = 0.9 # FACTOR of edge weight\n",
    "MIN_P = 0.55 # minimum percentage\n",
    "MAX_P = 0.95 # maximum percentage\n",
    "SMALL = 50   # small input\n",
    "MEDIUM = 100 # medium input\n",
    "LARGE = 200  # large input\n",
    "TEST_SIZE = 10  # use this to change the size of test cases\n",
    "\n",
    "# maximum number of TA's / homes\n",
    "SMALL_TA = 25\n",
    "MEDIUM_TA = 50\n",
    "LARGE_TA = 100"
   ]
  },
  {
   "cell_type": "markdown",
   "metadata": {},
   "source": [
    "# Utils"
   ]
  },
  {
   "cell_type": "code",
   "execution_count": null,
   "metadata": {},
   "outputs": [],
   "source": [
    "def write_to_file(file, string, append=False):\n",
    "    if append:\n",
    "        mode = 'a'\n",
    "    else:\n",
    "        mode = 'w'\n",
    "    with open(file, mode) as f:\n",
    "        f.write(string)\n",
    "\n",
    "\n",
    "def write_data_to_file(file, data, separator, append=False):\n",
    "    if append:\n",
    "        mode = 'a'\n",
    "    else:\n",
    "        mode = 'w'\n",
    "    with open(file, mode) as f:\n",
    "        for item in data:\n",
    "            f.write(f'{item}{separator}')\n",
    "            \n",
    "def read_file_to_list(file):\n",
    "    with open(file, 'r') as f:\n",
    "        for item in f:\n",
    "            line = f.readline()\n",
    "            print(line)\n",
    "            \n",
    "def print_edge_weights(g, n=5):\n",
    "    for edge, data in g.edges.items():\n",
    "        if n <= 0:\n",
    "            break\n",
    "        n-=1\n",
    "        print(edge, data)\n",
    "        \n",
    "def convert(lst): \n",
    "    return ' '.join(lst) "
   ]
  },
  {
   "cell_type": "code",
   "execution_count": null,
   "metadata": {},
   "outputs": [],
   "source": [
    "read_file_to_list('')"
   ]
  },
  {
   "cell_type": "markdown",
   "metadata": {},
   "source": [
    "# NetworkX tutorials"
   ]
  },
  {
   "cell_type": "code",
   "execution_count": null,
   "metadata": {},
   "outputs": [],
   "source": [
    "# G = nx.Graph([(1,1), (2,2), (1,2), (1,2)])\n",
    "G = nx.Graph()\n",
    "G.add_node(1)\n",
    "G.add_node(2)\n",
    "G.add_edge(1, 2)\n",
    "G.add_edge(2, 2)\n",
    "A = nx.adjacency_matrix(G)\n",
    "print(A.todense())"
   ]
  },
  {
   "cell_type": "code",
   "execution_count": null,
   "metadata": {},
   "outputs": [],
   "source": [
    "G = nx.Graph()\n",
    "# H = nx.path_graph(2)\n",
    "# G.add_nodes_from(H)\n",
    "G = nx.petersen_graph()\n",
    "# pos = nx.nx_agraph.graphviz_layout(G)\n",
    "# nx.draw(G, pos=pos)\n",
    "# plt.show()\n",
    "# plt.subplot(121)\n",
    "\n",
    "# nx.draw(G, with_labels=True, font_weight='bold')\n",
    "# plt.subplot(122)\n",
    "\n",
    "# nx.draw_shell(G, nlist=[range(5, 10), range(5)], with_labels=True, font_weight='bold')\n"
   ]
  },
  {
   "cell_type": "code",
   "execution_count": null,
   "metadata": {},
   "outputs": [],
   "source": [
    "G1 = nx.complete_graph(3)\n",
    "# plt.subplot(121)\n",
    "# nx.draw(G1, node_color='blue', with_labels=True)\n",
    "print(list(G1.nodes()))\n",
    "print(list(G1.edges()))\n",
    "\n",
    "G2 = nx.complete_graph(range(3,6))\n",
    "# plt.subplot(122)\n",
    "# nx.draw(G2, node_color='red', with_labels=True)\n",
    "\n",
    "G3 = nx.union(G1, G2)\n",
    "G3.add_edge(2, 4, weight=4.7)\n",
    "print(G3[4][2])\n",
    "nx.draw(G3, node_color='red', with_labels=True)\n",
    "print(list(G.nodes()).pop())"
   ]
  },
  {
   "cell_type": "markdown",
   "metadata": {},
   "source": [
    "# Method 1: Randomly generate triangles and connect them together"
   ]
  },
  {
   "cell_type": "code",
   "execution_count": null,
   "metadata": {},
   "outputs": [],
   "source": [
    "def add_weights(g):\n",
    "    w1 = rd.uniform(MIN, MAX)\n",
    "    w2 = rd.uniform(MIN_P * w1, MAX_P * w1)\n",
    "    w3 = rd.uniform(MIN_P * w1, MAX_P * w1)\n",
    "    ws = [w1, w2, w3]\n",
    "    for _, data in g.edges.items():\n",
    "        data['weight'] = round(ws.pop(), NUM_DEC)\n",
    "    \n",
    "def connect(G, g):\n",
    "    Gnodes = list(G.nodes)\n",
    "    gnodes = list(g.nodes)\n",
    "    G = nx.union(G, g)\n",
    "    for n in gnodes:\n",
    "        idx = rd.randrange(0, len(Gnodes))\n",
    "        a = Gnodes.pop(idx)\n",
    "        try:\n",
    "            w = nx.shortest_path_length(G, source=a, target=n) * FACTOR\n",
    "        except nx.NetworkXNoPath:\n",
    "            ws = [i for _, _, i in g.edges.data('weight')]\n",
    "            w = rd.uniform(min(ws), max(ws)) * FACTOR\n",
    "        G.add_edge(a, n, weight=round(w, NUM_DEC))\n",
    "    return G\n",
    "        \n",
    "def gen_graph(n):\n",
    "    G = nx.Graph()\n",
    "    while n:\n",
    "        a = n.pop()\n",
    "        b = n.pop()\n",
    "        c = n.pop()\n",
    "        nodes = [a, b, c]\n",
    "        g = nx.complete_graph(nodes)\n",
    "        add_weights(g)\n",
    "        if len(G.nodes) == 0:\n",
    "            G = g\n",
    "        else:\n",
    "            G = connect(G, g)\n",
    "    return G"
   ]
  },
  {
   "cell_type": "code",
   "execution_count": null,
   "metadata": {},
   "outputs": [],
   "source": [
    "def convertTo\n",
    "try:\n",
    "    nx.shortest_path_length(G, source=2, target=3)\n",
    "except nx.NetworkXNoPath:\n",
    "    print(\"No path\")\n",
    "# for e in G.edges.items():\n",
    "#     print(e)\n",
    "nx.draw(G, node_color='red', with_labels=True)\n",
    "A = nx.adjacency_matrix(G).toarray()\n",
    "B = [[None] * len(A[0])] * len(A)\n",
    "for i in range(len(A)):\n",
    "    for j in range(len(A[0])):\n",
    "        if A[i][j] == 0.0:\n",
    "            B[i][j] = 'x'\n",
    "        else:\n",
    "            B[i][j] = A[i][j]\n",
    "print(B)"
   ]
  },
  {
   "cell_type": "markdown",
   "metadata": {},
   "source": [
    "# Method 2: Complete Graph with Random Weights Adjusted"
   ]
  },
  {
   "cell_type": "markdown",
   "metadata": {},
   "source": [
    "Generate a complete graph with random weights associated each edge. Use floyd_warshall to produce the \n",
    "all-pairs shortest path distances. For each edge, set the length of the edge to be the length of the shortest distance between those two vertices.\n",
    "\n",
    "Drawbacks: After adjusting the weights, some points become lying along the way between two points as their middle points. It also requires more time to generate a valid graph."
   ]
  },
  {
   "cell_type": "code",
   "execution_count": null,
   "metadata": {},
   "outputs": [],
   "source": [
    "# Generate \n",
    "G_final = nx.complete_graph(LARGE)\n",
    "nx.draw(G_final, node_color='yellow', with_labels=True)\n",
    "\n",
    "# print(list(G1.nodes()))\n",
    "# print(list(G1.edges()))"
   ]
  },
  {
   "cell_type": "code",
   "execution_count": null,
   "metadata": {},
   "outputs": [],
   "source": [
    "def add_weights2(g, lower, upper):\n",
    "    \"\"\"Update the weight of each edge to be a random weight within the bounds.\"\"\"\n",
    "    for edge, data in g.edges.items():\n",
    "        w = rd.uniform(lower, upper)\n",
    "        data['weight'] = round(w, NUM_DEC)\n",
    "#         print(edge, data)        "
   ]
  },
  {
   "cell_type": "code",
   "execution_count": null,
   "metadata": {},
   "outputs": [],
   "source": [
    "# dict1 = nx.floyd_warshall(G_final, weight='weight')\n",
    "# plt.subplot(121)\n",
    "# nx.draw(G_final, node_color='yellow', with_labels=True)\n",
    "# print(list(G_final.nodes()))\n",
    "# print(list(G_final.edges().items()))\n",
    "# dict1 = nx.all_pairs_shortest_path_length(G_final)"
   ]
  },
  {
   "cell_type": "code",
   "execution_count": null,
   "metadata": {},
   "outputs": [],
   "source": [
    "def print_shortest_pair_distance(g):\n",
    "    rs = nx.floyd_warshall(g)\n",
    "    for i in rs:\n",
    "        for j in rs[i]:\n",
    "            print (\"%d\\t%d\\t%f\" % (i, j, rs[i][j]))"
   ]
  },
  {
   "cell_type": "code",
   "execution_count": null,
   "metadata": {},
   "outputs": [],
   "source": [
    "def fix_triangle_inequalities(g):\n",
    "    done = False\n",
    "    count = 0\n",
    "    num_fixes = 0\n",
    "    while not done:\n",
    "        done = True\n",
    "        rs = nx.floyd_warshall(g, weight='weight')\n",
    "        print(\"iteration \", count)\n",
    "        for edge, data in g.edges.items():\n",
    "            if data['weight'] > rs[edge[0]][edge[1]]:\n",
    "#                 print('change ' + str(edge) + \" \" + str(data['weight']) + \" to \" + str(rs[edge[0]][edge[1]]))\n",
    "                data['weight'] = rs[edge[0]][edge[1]]\n",
    "                done = False\n",
    "                num_fixes += 1\n",
    "#                 break # with break will lead to less fixes but takes more time to update\n",
    "        count += 1\n",
    "    print(\"total fixes: \", num_fixes)"
   ]
  },
  {
   "cell_type": "markdown",
   "metadata": {},
   "source": [
    "Generate random weight for each edge."
   ]
  },
  {
   "cell_type": "code",
   "execution_count": null,
   "metadata": {},
   "outputs": [],
   "source": [
    "# G_final[2][3]['weight'] = 78.73409\n",
    "add_weights2(G_final, MIN, MAX)\n",
    "print_edge_weights(G_final)  "
   ]
  },
  {
   "cell_type": "markdown",
   "metadata": {},
   "source": [
    "Fix the weight to satisfy the trangle inequalities."
   ]
  },
  {
   "cell_type": "code",
   "execution_count": null,
   "metadata": {},
   "outputs": [],
   "source": [
    "fix_triangle_inequalities(G_final)\n",
    "print_edge_weights(G_final)  "
   ]
  },
  {
   "cell_type": "markdown",
   "metadata": {},
   "source": [
    "# Method 3: Generate Random Coordinates Within Bounds"
   ]
  },
  {
   "cell_type": "markdown",
   "metadata": {},
   "source": [
    "In this method, we treat the locations as a point on a 2D plane with x, y coordinates. If we connect any three locations as a triangle and set the distance between any two locations as the edge weight, then the edge weights are guaranteed to satisfy the triangle inequality because on a plane the shortest path between two points is the edge directly connect them.\n",
    "\n",
    "Genearte random points with coordinates (x, y), where $0 < x < 10^9$ and $0 < y < 10^9$, so the maximum possible weight is $\\sqrt{(10^9)^2 + (10^9)^2} = \\sqrt{2 \\times 10^9} < 2 \\times 10^9$."
   ]
  },
  {
   "cell_type": "code",
   "execution_count": null,
   "metadata": {},
   "outputs": [],
   "source": [
    "def gen_rand_loc_in_range(num: int, xmin: float, xmax: float, ymin: float, ymax: float) -> list:\n",
    "    \"\"\"Generate a list of random locations in the provided ranges.\n",
    "    \n",
    "    Each location is a tupple of x, y coordinates, (x_i, y_i).\n",
    "    * xmin <= x_i <= xmax\n",
    "    * ymin <= y_i <= ymax\n",
    "    \n",
    "    Parameters:\n",
    "        num: int\n",
    "            The number of locations\n",
    "        xmin: float\n",
    "            The minimum value of x coordinate\n",
    "        xmax: float\n",
    "            The maximum value of x coordinate\n",
    "        ymin: float\n",
    "            The minimum value of y coordinate\n",
    "        ymax: float\n",
    "            The maximum value of y coordinate\n",
    "    \n",
    "    Returns\n",
    "        list\n",
    "            A list of locations\n",
    "    \"\"\"\n",
    "    \n",
    "    locs = []\n",
    "    for i in range(num):\n",
    "        x = round(rd.uniform(xmin, xmax), NUM_DEC)\n",
    "        y = round(rd.uniform(ymin, ymax), NUM_DEC)\n",
    "        locs.append((x, y))\n",
    "    return locs\n",
    "\n",
    "def euclidean_dist(p1, p2):\n",
    "    \"\"\"Calculate the Euclidean distance between two points\"\"\"\n",
    "    \n",
    "    return math.sqrt((p1[0] - p2[0])**2 + (p1[1] - p2[1])**2)\n",
    "\n",
    "def plot_locs(locations):\n",
    "    \"\"\"coords: list of tuples (x, y)\"\"\"\n",
    "    \n",
    "    coords = np.array(locations)\n",
    "    x, y = coords.T\n",
    "    plt.scatter(x,y)\n",
    "    plt.show()\n",
    "    \n",
    "def find_centroid(locations):\n",
    "    \"\"\"Find the centroid of the locations\"\"\"\n",
    "    \n",
    "    maximum_dist = 0\n",
    "    centroid = locations[0]\n",
    "    for loc1 in locations:\n",
    "        for loc2 in locations:\n",
    "            dist = euclidean_dist(loc1, loc2)\n",
    "        if (dist > maximum_dist):\n",
    "            maximum_dist = dist\n",
    "            centroid = loc1\n",
    "    return centroid\n",
    "    \n",
    "def make_cluster(locations, names):\n",
    "    \"\"\"Make a cluster of homes from provided locations and names.\n",
    "    \n",
    "    Find the location that closest to other locations, and it is\n",
    "    the centroid of this cluster. Connect all the homes to the centroid.\n",
    "    \n",
    "    loc_name: [coords] => [name]\n",
    "    \"\"\"\n",
    "    \n",
    "    centroid = find_centroid(locations)\n",
    "    loc_name = {}\n",
    "    for i in range(len(locations)):\n",
    "        loc_name[locations[i]] = names[i]\n",
    "    g = nx.Graph()\n",
    "    for item in loc_name.items():\n",
    "        g.add_node(item[1], coords=item[0])\n",
    "    for item in loc_name.items():\n",
    "        if (item[1] != loc_name[centroid]):\n",
    "            g.add_edge(item[1], loc_name[centroid], weight=euclidean_dist(item[0], centroid))"
   ]
  },
  {
   "cell_type": "code",
   "execution_count": null,
   "metadata": {},
   "outputs": [],
   "source": [
    "# Test\n",
    "locations = gen_rand_loc_in_range(7, 1, 1e6, 1, 1e6)\n"
   ]
  },
  {
   "cell_type": "code",
   "execution_count": null,
   "metadata": {},
   "outputs": [],
   "source": [
    "# Generate \n",
    "G_final = nx.complete_graph(LARGE)\n",
    "plt.subplot()\n",
    "nx.draw(G_final, node_color='yellow', with_labels=True)"
   ]
  },
  {
   "cell_type": "code",
   "execution_count": null,
   "metadata": {},
   "outputs": [],
   "source": [
    "def add_weights3(g, coords, num_print_msg=5):\n",
    "    \"\"\"Update the weight of each edge to be the distance between their location.\"\"\"\n",
    "    for edge, data in g.edges.items():\n",
    "        data['weight'] = round(calculate_dist(coords[edge[0]], coords[edge[1]]), NUM_DEC)\n",
    "        if num_print_msg > 0:\n",
    "            print(str(edge) + \"weight: \" + str(data['weight']))\n",
    "        num_print_msg -= 1"
   ]
  },
  {
   "cell_type": "code",
   "execution_count": null,
   "metadata": {},
   "outputs": [],
   "source": [
    "add_weights3(G_final, coords)"
   ]
  },
  {
   "cell_type": "code",
   "execution_count": null,
   "metadata": {},
   "outputs": [],
   "source": [
    "fix_triangle_inequalities(G_final)\n",
    "plt.subplot()\n",
    "nx.draw(G_final, node_color='yellow', with_labels=True)"
   ]
  },
  {
   "cell_type": "markdown",
   "metadata": {},
   "source": [
    "# Formatting Inputs, Outputs"
   ]
  },
  {
   "cell_type": "code",
   "execution_count": null,
   "metadata": {},
   "outputs": [],
   "source": [
    "f = open('world-cities.csv')\n",
    "csv_f = csv.reader(f)\n",
    "world_cities = []\n",
    "for r in csv_f:\n",
    "    name = r[0]\n",
    "    if name.isalpha() and name != 'name':\n",
    "        world_cities.append(name)\n",
    "city_num = len(world_cities)\n",
    "print(world_cities)\n",
    "small_list = []\n",
    "medium_list = []\n",
    "large_list = []\n",
    "for i in range(SMALL):\n",
    "    idx = rd.randrange(0, city_num)\n",
    "    small_list.append(world_cities[idx])\n",
    "for i in range(MEDIUM):\n",
    "    idx = rd.randrange(0, city_num)\n",
    "    medium_list.append(world_cities[idx])\n",
    "for i in range(LARGE):\n",
    "    idx = rd.randrange(0, city_num)\n",
    "    large_list.append(world_cities[idx])\n",
    "write_data_to_file(\"small_list_names.txt\", small_list, '\\n')"
   ]
  },
  {
   "cell_type": "code",
   "execution_count": null,
   "metadata": {},
   "outputs": [],
   "source": [
    "# input_file = \"7\\n4\\nSoda\"\n",
    "# write_to_file(\"input.txt\", input_file)"
   ]
  },
  {
   "cell_type": "code",
   "execution_count": null,
   "metadata": {},
   "outputs": [],
   "source": [
    "def getFormattedAdjMatrix(G):\n",
    "#     try:\n",
    "#         nx.shortest_path_length(G, source=0, target=2)\n",
    "#     except nx.NetworkXNoPath:\n",
    "#         print(\"No path\")\n",
    "    # for e in G.edges.items():\n",
    "    #     print(e)\n",
    "#     nx.draw(G, node_color='red', with_labels=True)\n",
    "    A = nx.adjacency_matrix(G).toarray()\n",
    "#     print(A)\n",
    "    B = [[0 for i in range(len(A[0]))] for i in range(len(A))]\n",
    "    for i in range(len(A)):\n",
    "        for j in range(len(A[0])):\n",
    "            if A[i][j] == 0.0:\n",
    "                B[i][j] = 'x'\n",
    "            else:\n",
    "                B[i][j] = str(A[i][j])\n",
    "    return B\n",
    "# print(B)"
   ]
  },
  {
   "cell_type": "code",
   "execution_count": null,
   "metadata": {},
   "outputs": [],
   "source": [
    "G = nx.complete_graph(3)\n",
    "plt.subplot()\n",
    "nx.draw(G, node_color='yellow', with_labels=True)\n",
    "for i, e in enumerate(G.edges()):\n",
    "    G.add_edge(e[0], e[1], weight=i+1)\n",
    "# print(G.edges().data())\n",
    "\n",
    "\n",
    "attrs = {}\n",
    "for i, n in enumerate(G.nodes()):\n",
    "    if i == len(G.nodes()) - 1:\n",
    "        attrs[i] = {'name': chr(ord('A')+i), 'home': False}\n",
    "    else:\n",
    "        attrs[i] = {'name': chr(ord('A')+i), 'home': True}\n",
    "    nx.set_node_attributes(G,attrs)\n",
    "\n",
    "# print(G.nodes().data())\n",
    "print(G.edges().data())\n",
    "\n",
    "def formatInput(g, start, filename=\"final_input.txt\"):\n",
    "    # 1. write the # of locations\n",
    "    write_to_file(filename, str(len(g.nodes())) + '\\n')\n",
    "    homes = []\n",
    "   \n",
    "    # construct the list of homes' names\n",
    "    for n_data in G.nodes().data():\n",
    "#         print(n_data[1])\n",
    "        if n_data[1]['home']:\n",
    "            homes.append(n_data[1]['name'])\n",
    "    \n",
    "    # 2. write the # of homes\n",
    "    write_to_file(filename, str(len(homes)) + '\\n', True)\n",
    "    \n",
    "    # 3. write the names of locations\n",
    "    write_to_file(filename, convert(nx.get_node_attributes(g,'name').values()) + '\\n', True)\n",
    "    \n",
    "    # 4. write the names of homes\n",
    "    write_to_file(filename, convert(homes) + '\\n', True)\n",
    "    \n",
    "    # 5. write the name of starting location\n",
    "    write_to_file(filename, start + '\\n', True)\n",
    "    \n",
    "    # 5. write the adj matrix\n",
    "    adjM = getFormattedAdjMatrix(G)\n",
    "    for i in range(len(adjM)):\n",
    "#         print(i)\n",
    "        print(adjM[i])\n",
    "        write_to_file(filename, convert(adjM[i]) + '\\n', True)\n",
    "\n",
    "formatInput(G, 'C')"
   ]
  },
  {
   "cell_type": "code",
   "execution_count": null,
   "metadata": {},
   "outputs": [],
   "source": [
    "def formatOutput(car_route, dropoff_names, home_names, filename=\"final_output.out\"):\n",
    "    \"\"\"Format and write the output to a file.\n",
    "    \n",
    "    Parameters:\n",
    "        car_route: list of locations'names traveled by car (from start and back to start).\n",
    "        dropoff_names: list of droff locations' names\n",
    "        home_names: list of lists of homes' names. each list corresponds to the droff location in dropoff_names\n",
    "        \n",
    "        eg.\n",
    "        ['dropoff_loc1', 'dropoff_loc2']\n",
    "        [['home1', 'home2'], ['home3']]\n",
    "        This means we dropp off two TAs at dropoff_loc1 and the TAs walk their homes(home1 and home2).\n",
    "        Similarilly, we drop off one TA at dropoff_loc2 and one TA walks home3.\n",
    "\n",
    "    \"\"\"\n",
    "    write_to_file(filename, convert(car_route) + '\\n')\n",
    "    write_to_file(filename, str(len(dropoff_names)) + '\\n', True)\n",
    "    for i, loc in enumerate(dropoff_names):\n",
    "        write_to_file(filename, convert(loc) + ' ', True)\n",
    "        write_to_file(filename, convert(home_names[i]), True)\n",
    "        write_to_file(filename, '\\n', True)\n",
    "formatOutput(['start', 'dropoff1', 'dropoff2', 'start'], [[\"dropoff1\"], [\"droppoff2\"]], [[\"home1\", \"home2\"], [\"home3\"]])"
   ]
  },
  {
   "cell_type": "markdown",
   "metadata": {},
   "source": [
    "# Save and Load a Graph Object from File Using Pickle"
   ]
  },
  {
   "cell_type": "code",
   "execution_count": null,
   "metadata": {},
   "outputs": [],
   "source": [
    "import pickle\n",
    "# save a graph obj\n",
    "filename = \"G_final_1.p\"\n",
    "nx.draw(G_final, node_color='yellow', with_labels=True)\n",
    "pickle.dump(G_final, open(filename, \"wb\"))"
   ]
  },
  {
   "cell_type": "code",
   "execution_count": null,
   "metadata": {},
   "outputs": [],
   "source": [
    "import pickle\n",
    "G_final_copy = pickle.load( open(filename, \"rb\"))\n",
    "nx.draw(G_final_copy, node_color='yellow', with_labels=True)"
   ]
  }
 ],
 "metadata": {
  "kernelspec": {
   "display_name": "Python 3",
   "language": "python",
   "name": "python3"
  },
  "language_info": {
   "codemirror_mode": {
    "name": "ipython",
    "version": 3
   },
   "file_extension": ".py",
   "mimetype": "text/x-python",
   "name": "python",
   "nbconvert_exporter": "python",
   "pygments_lexer": "ipython3",
   "version": "3.7.3"
  },
  "toc": {
   "base_numbering": 1,
   "nav_menu": {},
   "number_sections": true,
   "sideBar": true,
   "skip_h1_title": false,
   "title_cell": "Table of Contents",
   "title_sidebar": "Contents",
   "toc_cell": true,
   "toc_position": {},
   "toc_section_display": true,
   "toc_window_display": true
  }
 },
 "nbformat": 4,
 "nbformat_minor": 2
}
