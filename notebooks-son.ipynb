{
 "cells": [
  {
   "cell_type": "code",
   "execution_count": null,
   "metadata": {},
   "outputs": [],
   "source": [
    "import networkx as nx\n",
    "import matplotlib.pyplot as plt\n",
    "import random as rd\n",
    "import csv\n",
    "import numpy as np\n",
    "import math"
   ]
  },
  {
   "cell_type": "markdown",
   "metadata": {},
   "source": [
    "# Constants"
   ]
  },
  {
   "cell_type": "code",
   "execution_count": null,
   "metadata": {},
   "outputs": [],
   "source": [
    "# Constants\n",
    "MAX = 2e9  # maximum value of edge weight\n",
    "MIN = 1  # minimum value of edge weight (not real min because we account for FACTOR)\n",
    "NUM_DEC = 5  # number of decimal numbers for rounding\n",
    "FACTOR = 0.9 # FACTOR of edge weight\n",
    "MIN_P = 0.55 # minimum percentage\n",
    "MAX_P = 0.95 # maximum percentage\n",
    "SMALL = 50   # small input\n",
    "MEDIUM = 100 # medium input\n",
    "LARGE = 200  # large input\n",
    "TEST_SIZE = 10  # use this to change the size of test cases\n",
    "\n",
    "# maximum number of TA's / homes\n",
    "SMALL_TA = 25\n",
    "MEDIUM_TA = 50\n",
    "LARGE_TA = 100"
   ]
  },
  {
   "cell_type": "markdown",
   "metadata": {},
   "source": [
    "# Utils"
   ]
  },
  {
   "cell_type": "code",
   "execution_count": null,
   "metadata": {},
   "outputs": [],
   "source": [
    "def write_to_file(file, string, append=False):\n",
    "    if append:\n",
    "        mode = 'a'\n",
    "    else:\n",
    "        mode = 'w'\n",
    "    with open(file, mode) as f:\n",
    "        f.write(string)\n",
    "\n",
    "\n",
    "def write_data_to_file(file, data, separator, append=False):\n",
    "    if append:\n",
    "        mode = 'a'\n",
    "    else:\n",
    "        mode = 'w'\n",
    "    with open(file, mode) as f:\n",
    "        for item in data:\n",
    "            f.write(f'{item}{separator}')\n",
    "            \n",
    "def print_edge_weights(g, n=5):\n",
    "    for edge, data in g.edges.items():\n",
    "        if n <= 0:\n",
    "            break\n",
    "        n-=1\n",
    "        print(edge, data)  "
   ]
  },
  {
   "cell_type": "markdown",
   "metadata": {},
   "source": [
    "# NetworkX tutorials"
   ]
  },
  {
   "cell_type": "code",
   "execution_count": null,
   "metadata": {},
   "outputs": [],
   "source": [
    "# G = nx.Graph([(1,1), (2,2), (1,2), (1,2)])\n",
    "G = nx.Graph()\n",
    "G.add_node(1)\n",
    "G.add_node(2)\n",
    "G.add_edge(1, 2)\n",
    "G.add_edge(2, 2)\n",
    "A = nx.adjacency_matrix(G)\n",
    "print(A.todense())"
   ]
  },
  {
   "cell_type": "code",
   "execution_count": null,
   "metadata": {},
   "outputs": [],
   "source": [
    "G = nx.Graph()\n",
    "# H = nx.path_graph(2)\n",
    "# G.add_nodes_from(H)\n",
    "G = nx.petersen_graph()\n",
    "# pos = nx.nx_agraph.graphviz_layout(G)\n",
    "# nx.draw(G, pos=pos)\n",
    "# plt.show()\n",
    "# plt.subplot(121)\n",
    "\n",
    "# nx.draw(G, with_labels=True, font_weight='bold')\n",
    "# plt.subplot(122)\n",
    "\n",
    "# nx.draw_shell(G, nlist=[range(5, 10), range(5)], with_labels=True, font_weight='bold')\n"
   ]
  },
  {
   "cell_type": "code",
   "execution_count": null,
   "metadata": {},
   "outputs": [],
   "source": [
    "G1 = nx.complete_graph(3)\n",
    "# plt.subplot(121)\n",
    "# nx.draw(G1, node_color='blue', with_labels=True)\n",
    "print(list(G1.nodes()))\n",
    "print(list(G1.edges()))\n",
    "\n",
    "G2 = nx.complete_graph(range(3,6))\n",
    "# plt.subplot(122)\n",
    "# nx.draw(G2, node_color='red', with_labels=True)\n",
    "\n",
    "G3 = nx.union(G1, G2)\n",
    "G3.add_edge(2, 4, weight=4.7)\n",
    "print(G3[4][2])\n",
    "nx.draw(G3, node_color='red', with_labels=True)\n",
    "print(list(G.nodes()).pop())"
   ]
  },
  {
   "cell_type": "markdown",
   "metadata": {},
   "source": [
    "# Method 1: Randomly generate triangles and connect them together"
   ]
  },
  {
   "cell_type": "code",
   "execution_count": null,
   "metadata": {},
   "outputs": [],
   "source": [
    "def add_weights(g):\n",
    "    w1 = rd.uniform(MIN, MAX)\n",
    "    w2 = rd.uniform(MIN_P * w1, MAX_P * w1)\n",
    "    w3 = rd.uniform(MIN_P * w1, MAX_P * w1)\n",
    "    ws = [w1, w2, w3]\n",
    "    for _, data in g.edges.items():\n",
    "        data['weight'] = round(ws.pop(), NUM_DEC)\n",
    "    \n",
    "def connect(G, g):\n",
    "    Gnodes = list(G.nodes)\n",
    "    gnodes = list(g.nodes)\n",
    "    G = nx.union(G, g)\n",
    "    for n in gnodes:\n",
    "        idx = rd.randrange(0, len(Gnodes))\n",
    "        a = Gnodes.pop(idx)\n",
    "        try:\n",
    "            w = nx.shortest_path_length(G, source=a, target=n) * FACTOR\n",
    "        except nx.NetworkXNoPath:\n",
    "            ws = [i for _, _, i in g.edges.data('weight')]\n",
    "            w = rd.uniform(min(ws), max(ws)) * FACTOR\n",
    "        G.add_edge(a, n, weight=round(w, NUM_DEC))\n",
    "    return G\n",
    "        \n",
    "def gen_graph(n):\n",
    "    G = nx.Graph()\n",
    "    while n:\n",
    "        a = n.pop()\n",
    "        b = n.pop()\n",
    "        c = n.pop()\n",
    "        nodes = [a, b, c]\n",
    "        g = nx.complete_graph(nodes)\n",
    "        add_weights(g)\n",
    "        if len(G.nodes) == 0:\n",
    "            G = g\n",
    "        else:\n",
    "            G = connect(G, g)\n",
    "    return G"
   ]
  },
  {
   "cell_type": "code",
   "execution_count": null,
   "metadata": {},
   "outputs": [],
   "source": [
    "G = gen_graph(list(range(24)))\n",
    "try:\n",
    "    nx.shortest_path_length(G, source=2, target=3)\n",
    "except nx.NetworkXNoPath:\n",
    "    print(\"No path\")\n",
    "# for e in G.edges.items():\n",
    "#     print(e)\n",
    "nx.draw(G, node_color='red', with_labels=True)\n",
    "A = nx.adjacency_matrix(G).toarray()\n",
    "B = [[None] * len(A[0])] * len(A)\n",
    "for i in range(len(A)):\n",
    "    for j in range(len(A[0])):\n",
    "        if A[i][j] == 0.0:\n",
    "            B[i][j] = 'x'\n",
    "        else:\n",
    "            B[i][j] = A[i][j]\n",
    "print(B)"
   ]
  },
  {
   "cell_type": "markdown",
   "metadata": {},
   "source": [
    "# Method 2: Complete Graph with Random Weights Adjusted"
   ]
  },
  {
   "cell_type": "markdown",
   "metadata": {},
   "source": [
    "Generate a complete graph with random weights associated each edge. Use floyd_warshall to produce the \n",
    "all-pairs shortest path distances. For each edge, set the length of the edge to be the length of the shortest distance between those two vertices.\n",
    "\n",
    "Drawbacks: After adjusting the weights, some points become lying along the way between two points as their middle points. It also requires more time to generate a valid graph."
   ]
  },
  {
   "cell_type": "code",
   "execution_count": null,
   "metadata": {},
   "outputs": [],
   "source": [
    "# Generate \n",
    "G_final = nx.complete_graph(LARGE)\n",
    "nx.draw(G_final, node_color='yellow', with_labels=True)\n",
    "\n",
    "# print(list(G1.nodes()))\n",
    "# print(list(G1.edges()))"
   ]
  },
  {
   "cell_type": "code",
   "execution_count": null,
   "metadata": {},
   "outputs": [],
   "source": [
    "def add_weights2(g, lower, upper):\n",
    "    \"\"\"Update the weight of each edge to be a random weight within the bounds.\"\"\"\n",
    "    for edge, data in g.edges.items():\n",
    "        w = rd.uniform(lower, upper)\n",
    "        data['weight'] = round(w, NUM_DEC)\n",
    "#         print(edge, data)        "
   ]
  },
  {
   "cell_type": "code",
   "execution_count": null,
   "metadata": {},
   "outputs": [],
   "source": [
    "# dict1 = nx.floyd_warshall(G_final, weight='weight')\n",
    "# plt.subplot(121)\n",
    "# nx.draw(G_final, node_color='yellow', with_labels=True)\n",
    "# print(list(G_final.nodes()))\n",
    "# print(list(G_final.edges().items()))\n",
    "# dict1 = nx.all_pairs_shortest_path_length(G_final)"
   ]
  },
  {
   "cell_type": "code",
   "execution_count": null,
   "metadata": {},
   "outputs": [],
   "source": [
    "def print_shortest_pair_distance(g):\n",
    "    rs = nx.floyd_warshall(g)\n",
    "    for i in rs:\n",
    "        for j in rs[i]:\n",
    "            print (\"%d\\t%d\\t%f\" % (i, j, rs[i][j]))"
   ]
  },
  {
   "cell_type": "code",
   "execution_count": null,
   "metadata": {},
   "outputs": [],
   "source": [
    "def fix_triangle_inequalities(g):\n",
    "    done = False\n",
    "    count = 0\n",
    "    num_fixes = 0\n",
    "    while not done:\n",
    "        done = True\n",
    "        rs = nx.floyd_warshall(g, weight='weight')\n",
    "        print(\"iteration \", count)\n",
    "        for edge, data in g.edges.items():\n",
    "            if data['weight'] > rs[edge[0]][edge[1]]:\n",
    "#                 print('change ' + str(edge) + \" \" + str(data['weight']) + \" to \" + str(rs[edge[0]][edge[1]]))\n",
    "                data['weight'] = rs[edge[0]][edge[1]]\n",
    "                done = False\n",
    "                num_fixes += 1\n",
    "#                 break # with break will lead to less fixes but takes more time to update\n",
    "        count += 1\n",
    "    print(\"total fixes: \", num_fixes)"
   ]
  },
  {
   "cell_type": "markdown",
   "metadata": {},
   "source": [
    "Generate random weight for each edge."
   ]
  },
  {
   "cell_type": "code",
   "execution_count": null,
   "metadata": {},
   "outputs": [],
   "source": [
    "# G_final[2][3]['weight'] = 78.73409\n",
    "add_weights2(G_final, MIN, MAX)\n",
    "print_edge_weights(G_final)  "
   ]
  },
  {
   "cell_type": "markdown",
   "metadata": {},
   "source": [
    "Fix the weight to satisfy the trangle inequalities."
   ]
  },
  {
   "cell_type": "code",
   "execution_count": null,
   "metadata": {},
   "outputs": [],
   "source": [
    "fix_triangle_inequalities(G_final)\n",
    "print_edge_weights(G_final)  "
   ]
  },
  {
   "cell_type": "markdown",
   "metadata": {},
   "source": [
    "# Method 3: Generate Random Coordinates Within Bounds"
   ]
  },
  {
   "cell_type": "markdown",
   "metadata": {},
   "source": [
    "In this method, we treat the locations as a point on a 2D plane with x, y coordinates. If we connect any three locations as a triangle and set the distance between any two locations as the edge weight, then the edge weights are guaranteed to satisfy the triangle inequality because on a plane the shortest path between two points is the edge directly connect them.\n",
    "\n",
    "Genearte random points with coordinates (x, y), where $0 < x < 10^9$ and $0 < y < 10^9$, so the maximum possible weight is $\\sqrt{(10^9)^2 + (10^9)^2} = \\sqrt{2 \\times 10^9} < 2 \\times 10^9$."
   ]
  },
  {
   "cell_type": "code",
   "execution_count": null,
   "metadata": {},
   "outputs": [],
   "source": [
    "def generate_random_coordinates(num_verticies, included_rects):\n",
    "    \"\"\" generate a list of random coordinates which are in the included rects.\n",
    "    included_rect = [[x_left, x_right, y_bot, y_top], ...]\"\"\"\n",
    "    print(\"included_rects:\", included_rects)\n",
    "    coords = []\n",
    "    minX = float('inf')\n",
    "    minY = float('inf')\n",
    "    maxX = -float('inf')\n",
    "    maxY = -float('inf')\n",
    "    for i in range(num_verticies):\n",
    "        rect = rd.choice(included_rects)\n",
    "        \n",
    "        x = round(rd.uniform(rect[0], rect[1]), NUM_DEC)\n",
    "        y = round(rd.uniform(rect[2], rect[3]), NUM_DEC)\n",
    "        \n",
    "        coords.append((x, y))\n",
    "        if x < minX:\n",
    "            minX = x\n",
    "        if y < minY:\n",
    "            minY = y\n",
    "        if x > maxX:\n",
    "            maxX = x\n",
    "        if y > maxY:\n",
    "            maxY = y\n",
    "    print(\"minX: \", minX)\n",
    "    print(\"minY: \", minY)\n",
    "    print(\"maxX: \", maxX)\n",
    "    print(\"maxY: \", maxY)\n",
    "#     print(coords)\n",
    "    return coords\n",
    "\n",
    "def calculate_dist(point1, point2):\n",
    "    return math.sqrt((point1[0] - point2[0])**2 + (point1[1] - point2[1])**2)"
   ]
  },
  {
   "cell_type": "code",
   "execution_count": null,
   "metadata": {},
   "outputs": [],
   "source": [
    "# Plot coordinates in scatter plot\n",
    "def plot_coordinates(data):\n",
    "    \"\"\"data: list of tuples (x, y)\"\"\"\n",
    "    data = np.array(data)\n",
    "    x, y = data.T\n",
    "    plt.scatter(x,y)\n",
    "    plt.show()"
   ]
  },
  {
   "cell_type": "code",
   "execution_count": null,
   "metadata": {},
   "outputs": [],
   "source": [
    "# test included_rect\n",
    "coords = generate_random_coordinates(LARGE, [[0, .5*MAX, 0, .5*MAX], [.5*MAX, MAX, .5*MAX, MAX]])\n",
    "plot_coordinates(coords)\n",
    "# print(coords)"
   ]
  },
  {
   "cell_type": "code",
   "execution_count": null,
   "metadata": {},
   "outputs": [],
   "source": [
    "# Generate \n",
    "G_final = nx.complete_graph(LARGE)\n",
    "plt.subplot()\n",
    "nx.draw(G_final, node_color='yellow', with_labels=True)"
   ]
  },
  {
   "cell_type": "code",
   "execution_count": null,
   "metadata": {},
   "outputs": [],
   "source": [
    "def add_weights3(g, coords, num_print_msg=5):\n",
    "    \"\"\"Update the weight of each edge to be the distance between their location.\"\"\"\n",
    "    for edge, data in g.edges.items():\n",
    "        data['weight'] = round(calculate_dist(coords[edge[0]], coords[edge[1]]), NUM_DEC)\n",
    "        if num_print_msg > 0:\n",
    "            print(str(edge) + \"weight: \" + str(data['weight']))\n",
    "        num_print_msg -= 1"
   ]
  },
  {
   "cell_type": "code",
   "execution_count": null,
   "metadata": {},
   "outputs": [],
   "source": [
    "add_weights3(G_final, coords)"
   ]
  },
  {
   "cell_type": "code",
   "execution_count": null,
   "metadata": {},
   "outputs": [],
   "source": [
    "fix_triangle_inequalities(G_final)\n",
    "plt.subplot()\n",
    "nx.draw(G_final, node_color='yellow', with_labels=True)"
   ]
  },
  {
   "cell_type": "markdown",
   "metadata": {},
   "source": [
    "# Formatting Inputs, Outputs"
   ]
  },
  {
   "cell_type": "code",
   "execution_count": null,
   "metadata": {},
   "outputs": [],
   "source": [
    "f = open('world-cities.csv')\n",
    "csv_f = csv.reader(f)\n",
    "world_cities = []\n",
    "for r in csv_f:\n",
    "    name = r[0]\n",
    "    if name.isalpha() and name != 'name':\n",
    "        world_cities.append(name)\n",
    "city_num = len(world_cities)\n",
    "# print(world_cities)\n",
    "small_list = []\n",
    "medium_list = []\n",
    "large_list = []\n",
    "for i in range(SMALL):\n",
    "    idx = rd.randrange(0, city_num)\n",
    "    small_list.append(world_cities[idx])\n",
    "for i in range(MEDIUM):\n",
    "    idx = rd.randrange(0, city_num)\n",
    "    medium_list.append(world_cities[idx])\n",
    "for i in range(LARGE):\n",
    "    idx = rd.randrange(0, city_num)\n",
    "    large_list.append(world_cities[idx])"
   ]
  },
  {
   "cell_type": "code",
   "execution_count": null,
   "metadata": {},
   "outputs": [],
   "source": [
    "input_file = \"7\\n4\\nSoda\"\n",
    "write_to_file(\"input.txt\", input_file)"
   ]
  },
  {
   "cell_type": "markdown",
   "metadata": {},
   "source": [
    "## Save and Load a Graph Object from File Using Pickle"
   ]
  },
  {
   "cell_type": "code",
   "execution_count": null,
   "metadata": {},
   "outputs": [],
   "source": [
    "import pickle\n",
    "# save a graph obj\n",
    "filename = \"G_final_1.p\"\n",
    "\n",
    "plt.subplot()\n",
    "nx.draw(G_final, node_color='yellow', with_labels=True)\n",
    "\n",
    "pickle.dump(G_final, open(filename, \"wb\"))"
   ]
  },
  {
   "cell_type": "code",
   "execution_count": null,
   "metadata": {},
   "outputs": [],
   "source": [
    "import pickle\n",
    "G_final_copy = pickle.load( open(filename, \"rb\"))\n",
    "\n",
    "plt.subplot()\n",
    "nx.draw(G_final_copy, node_color='yellow', with_labels=True)"
   ]
  }
 ],
 "metadata": {
  "kernelspec": {
   "display_name": "Python 3",
   "language": "python",
   "name": "python3"
  },
  "language_info": {
   "codemirror_mode": {
    "name": "ipython",
    "version": 3
   },
   "file_extension": ".py",
   "mimetype": "text/x-python",
   "name": "python",
   "nbconvert_exporter": "python",
   "pygments_lexer": "ipython3",
   "version": "3.6.9"
  }
 },
 "nbformat": 4,
 "nbformat_minor": 2
}
