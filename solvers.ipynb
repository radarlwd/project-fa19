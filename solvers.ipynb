{
 "cells": [
  {
   "cell_type": "code",
   "execution_count": null,
   "metadata": {},
   "outputs": [],
   "source": [
    "import networkx as nx\n",
    "import matplotlib.pyplot as plt\n",
    "import random as rd\n",
    "import csv\n",
    "import numpy as np\n",
    "import math\n",
    "import ipynb.fs.full.gen_inputs"
   ]
  },
  {
   "cell_type": "markdown",
   "metadata": {},
   "source": [
    "# Metric TSP Solver"
   ]
  },
  {
   "cell_type": "markdown",
   "metadata": {},
   "source": [
    "## Method 1: A polynomial-time Algo with cost <= 2*optimal"
   ]
  },
  {
   "cell_type": "markdown",
   "metadata": {},
   "source": [
    "1. Take the MST of G.\n",
    "2. Do a DPS on MST to get PT(pseudotour).\n",
    "3. Go from PT to T* (Take each vertex only the first time it appears in PT)"
   ]
  },
  {
   "cell_type": "code",
   "execution_count": null,
   "metadata": {},
   "outputs": [],
   "source": [
    "G1 = nx.complete_graph(10)\n",
    "add_weights2(G1, 1, 10)\n",
    "print(list(G1.edges().data()))\n",
    "plt.subplot()\n",
    "nx.draw(G1, node_color='yellow', with_labels=True)"
   ]
  },
  {
   "cell_type": "code",
   "execution_count": null,
   "metadata": {},
   "outputs": [],
   "source": [
    "ta_homes = [0,1,2,3,4]\n",
    "G1_sub = G1.subgraph(ta_homes)\n",
    "print(list(G1_sub.edges().data()))\n",
    "plt.subplot()\n",
    "nx.draw(G1_sub, node_color='yellow', with_labels=True)"
   ]
  },
  {
   "cell_type": "code",
   "execution_count": null,
   "metadata": {},
   "outputs": [],
   "source": [
    "PT = nx.minimum_spanning_tree(G1_sub)\n",
    "# print(sorted(PT.edges(data=True)))\n",
    "print(PT.edges(data=True))\n",
    "\n",
    "plt.subplot()\n",
    "nx.draw(PT, node_color='yellow', with_labels=True)"
   ]
  },
  {
   "cell_type": "code",
   "execution_count": null,
   "metadata": {},
   "outputs": [],
   "source": [
    "# TODO: implement dfs yielding pseudotour\n",
    "list(nx.dfs_edges(PT, source=0))"
   ]
  }
 ],
 "metadata": {
  "kernelspec": {
   "display_name": "Python 3",
   "language": "python",
   "name": "python3"
  },
  "language_info": {
   "codemirror_mode": {
    "name": "ipython",
    "version": 3
   },
   "file_extension": ".py",
   "mimetype": "text/x-python",
   "name": "python",
   "nbconvert_exporter": "python",
   "pygments_lexer": "ipython3",
   "version": "3.6.9"
  }
 },
 "nbformat": 4,
 "nbformat_minor": 2
}
