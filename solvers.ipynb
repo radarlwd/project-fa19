{
 "cells": [
  {
   "cell_type": "code",
   "execution_count": null,
   "metadata": {},
   "outputs": [],
   "source": [
    "import networkx as nx\n",
    "import matplotlib.pyplot as plt\n",
    "import random as rd\n",
    "import csv\n",
    "import numpy as np\n",
    "import math\n",
    "from student_utils import *\n",
    "from utils import *\n",
    "# from ipynb.fs.full.gen_inputs import add_weights2"
   ]
  },
  {
   "cell_type": "markdown",
   "metadata": {},
   "source": [
    "# Compare two methods"
   ]
  },
  {
   "cell_type": "markdown",
   "metadata": {},
   "source": [
    "## Select the best output for each input"
   ]
  },
  {
   "cell_type": "code",
   "execution_count": null,
   "metadata": {},
   "outputs": [],
   "source": []
  },
  {
   "cell_type": "markdown",
   "metadata": {},
   "source": [
    "# Metric TSP Solver"
   ]
  },
  {
   "cell_type": "markdown",
   "metadata": {},
   "source": [
    "## Method 1: A polynomial-time Algo with cost <= 2*optimal"
   ]
  },
  {
   "cell_type": "markdown",
   "metadata": {},
   "source": [
    "1. Take the MST of G.\n",
    "2. Do a DPS on MST to get PT(pseudotour).\n",
    "3. Go from PT to T* (Take each vertex only the first time it appears in PT)"
   ]
  },
  {
   "cell_type": "code",
   "execution_count": null,
   "metadata": {},
   "outputs": [],
   "source": [
    "G1 = nx.complete_graph(10)\n",
    "add_weights2(G1, 1, 10)\n",
    "print(list(G1.edges().data()))\n",
    "plt.subplot()\n",
    "nx.draw(G1, node_color='yellow', with_labels=True)"
   ]
  },
  {
   "cell_type": "code",
   "execution_count": null,
   "metadata": {},
   "outputs": [],
   "source": [
    "ta_homes = [0,1,2,3,4]\n",
    "G1_sub = G1.subgraph(ta_homes)\n",
    "print(list(G1_sub.edges().data()))\n",
    "plt.subplot()\n",
    "nx.draw(G1_sub, node_color='yellow', with_labels=True)"
   ]
  },
  {
   "cell_type": "code",
   "execution_count": null,
   "metadata": {},
   "outputs": [],
   "source": [
    "PT = nx.minimum_spanning_tree(G1_sub)\n",
    "# print(sorted(PT.edges(data=True)))\n",
    "print(PT.edges(data=True))\n",
    "\n",
    "plt.subplot()\n",
    "nx.draw(PT, node_color='yellow', with_labels=True)"
   ]
  },
  {
   "cell_type": "code",
   "execution_count": null,
   "metadata": {},
   "outputs": [],
   "source": [
    "# TODO: implement dfs yielding pseudotour\n",
    "list(nx.dfs_edges(PT, source=0))"
   ]
  },
  {
   "cell_type": "markdown",
   "metadata": {},
   "source": [
    "# Rao drives every TA home: this is a TSP"
   ]
  },
  {
   "cell_type": "markdown",
   "metadata": {},
   "source": [
    "## Nearest Neighbor Algorithm"
   ]
  },
  {
   "cell_type": "code",
   "execution_count": null,
   "metadata": {},
   "outputs": [],
   "source": [
    "def solve(list_of_locations, list_of_homes, starting_car_location, adjacency_matrix, params=[]):\n",
    "    start_idx = list_of_locations.index(starting_car_location)\n",
    "    homes_idx = [list_of_locations.index(h) for h in list_of_homes]\n",
    "    graph1, msg1 = adjacency_matrix_to_graph(adjacency_matrix)\n",
    "    path = []\n",
    "    drop_offs = {}\n",
    "    current_idx = start_idx\n",
    "    while homes_idx:\n",
    "        lst_dist = [(h_idx, nx.shortest_path_length(graph1, current_idx, h_idx, 'weight')) for h_idx in homes_idx]\n",
    "        idx, _ = min(lst_dist, key=lambda x: x[1])\n",
    "        shortest_path = nx.shortest_path(graph1, current_idx, idx, 'weight')\n",
    "        shortest_path.pop()\n",
    "        path.extend(shortest_path)\n",
    "        drop_offs[idx] = [idx]\n",
    "        current_idx = idx\n",
    "        homes_idx.remove(idx)\n",
    "    last_shortest_path = nx.shortest_path(graph1, current_idx, start_idx, 'weight')\n",
    "    path.extend(last_shortest_path)\n",
    "    return path, drop_offs"
   ]
  },
  {
   "cell_type": "code",
   "execution_count": null,
   "metadata": {},
   "outputs": [],
   "source": [
    "data = read_file('test_inputs/27_50.in')\n",
    "num_loc, num_house, lst_loc, lst_house, start_loc, adj_mat = data_parser(data)\n",
    "solve(lst_loc, lst_house, start_loc, adj_mat)"
   ]
  },
  {
   "cell_type": "markdown",
   "metadata": {},
   "source": [
    "## 2-Approximation using MST"
   ]
  },
  {
   "cell_type": "code",
   "execution_count": null,
   "metadata": {},
   "outputs": [],
   "source": [
    "#code"
   ]
  },
  {
   "cell_type": "code",
   "execution_count": null,
   "metadata": {},
   "outputs": [],
   "source": [
    "#test"
   ]
  },
  {
   "cell_type": "markdown",
   "metadata": {},
   "source": [
    "## 1.5-Approximation using Christofides Algorithm"
   ]
  },
  {
   "cell_type": "code",
   "execution_count": null,
   "metadata": {},
   "outputs": [],
   "source": [
    "#code"
   ]
  },
  {
   "cell_type": "code",
   "execution_count": null,
   "metadata": {},
   "outputs": [],
   "source": [
    "#test"
   ]
  },
  {
   "cell_type": "markdown",
   "metadata": {},
   "source": [
    "## Branch-and-bound using the algorithm in the textbook"
   ]
  },
  {
   "cell_type": "code",
   "execution_count": null,
   "metadata": {},
   "outputs": [],
   "source": [
    "#code"
   ]
  },
  {
   "cell_type": "code",
   "execution_count": null,
   "metadata": {},
   "outputs": [],
   "source": [
    "#test"
   ]
  },
  {
   "cell_type": "markdown",
   "metadata": {},
   "source": [
    "## Branch-and-bound using another lower-bound"
   ]
  },
  {
   "cell_type": "code",
   "execution_count": null,
   "metadata": {},
   "outputs": [],
   "source": [
    "#code"
   ]
  },
  {
   "cell_type": "code",
   "execution_count": null,
   "metadata": {},
   "outputs": [],
   "source": [
    "#test"
   ]
  },
  {
   "cell_type": "markdown",
   "metadata": {},
   "source": [
    "# Rao drives TAs to some dropoff locations (clusters)"
   ]
  },
  {
   "cell_type": "markdown",
   "metadata": {},
   "source": []
  }
 ],
 "metadata": {
  "kernelspec": {
   "display_name": "Python 3",
   "language": "python",
   "name": "python3"
  },
  "language_info": {
   "codemirror_mode": {
    "name": "ipython",
    "version": 3
   },
   "file_extension": ".py",
   "mimetype": "text/x-python",
   "name": "python",
   "nbconvert_exporter": "python",
   "pygments_lexer": "ipython3",
   "version": "3.6.9"
  },
  "toc": {
   "base_numbering": 1,
   "nav_menu": {},
   "number_sections": true,
   "sideBar": true,
   "skip_h1_title": false,
   "title_cell": "Table of Contents",
   "title_sidebar": "Contents",
   "toc_cell": false,
   "toc_position": {},
   "toc_section_display": true,
   "toc_window_display": true
  }
 },
 "nbformat": 4,
 "nbformat_minor": 2
}
