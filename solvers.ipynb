{
 "cells": [
  {
   "cell_type": "code",
   "execution_count": null,
   "metadata": {},
   "outputs": [],
   "source": [
    "import networkx as nx\n",
    "import matplotlib.pyplot as plt\n",
    "import random as rd\n",
    "import csv\n",
    "import numpy as np\n",
    "import math\n",
    "from student_utils import *\n",
    "from utils import *\n",
    "import community\n",
    "from queue import PriorityQueue\n",
    "# from ipynb.fs.full.gen_inputs import add_weights2"
   ]
  },
  {
   "cell_type": "markdown",
   "metadata": {},
   "source": [
    "# Building outputs from all algorithms"
   ]
  },
  {
   "cell_type": "markdown",
   "metadata": {},
   "source": [
    "## Select the best output for each input"
   ]
  },
  {
   "cell_type": "code",
   "execution_count": null,
   "metadata": {},
   "outputs": [],
   "source": [
    "def select_outputs(pickle_dir):\n",
    "    pfiles = get_files_with_extension(pickle_dir, 'p')\n",
    "    dic = {}\n",
    "    meta_dic = {}\n",
    "    for pf in pfiles:\n",
    "        pobj = load_obj(pf)\n",
    "        for item in pobj:\n",
    "            # key=<./path/to/input_file>.in, value=(<./path/to/output_file.out>, cost)\n",
    "            input_file = item[0]\n",
    "            output_file = item[1]\n",
    "            cost = item[2][0]\n",
    "            if input_file in dic:\n",
    "                dic[input_file].append((output_file, cost))\n",
    "            else:\n",
    "                dic[input_file] = [(output_file, cost)]\n",
    "    if not os.path.isdir('final/outputs'):\n",
    "        os.mkdir('final')\n",
    "        os.mkdir('final/outputs')\n",
    "    for lst in dic.values():\n",
    "        best_output, best_cost = min(lst, key=lambda x: x[1])\n",
    "        os.system('cp ' + best_output + ' final/outputs/')\n",
    "        meta_dic[best_output] = best_cost\n",
    "    save_obj(meta_dic, 'final/meta.p')\n",
    "    write_data_to_file('final/meta.txt', meta_dic.items(), '\\n')"
   ]
  },
  {
   "cell_type": "code",
   "execution_count": null,
   "metadata": {},
   "outputs": [],
   "source": [
    "select_outputs('pickle_output')"
   ]
  },
  {
   "cell_type": "markdown",
   "metadata": {},
   "source": [
    "# Metric TSP Solver"
   ]
  },
  {
   "cell_type": "markdown",
   "metadata": {},
   "source": [
    "## Method 1: A polynomial-time Algo with cost <= 2*optimal"
   ]
  },
  {
   "cell_type": "markdown",
   "metadata": {},
   "source": [
    "1. Take the MST of G.\n",
    "2. Do a DPS on MST to get PT(pseudotour).\n",
    "3. Go from PT to T* (Take each vertex only the first time it appears in PT)"
   ]
  },
  {
   "cell_type": "code",
   "execution_count": null,
   "metadata": {},
   "outputs": [],
   "source": [
    "G1 = nx.complete_graph(10)\n",
    "add_weights2(G1, 1, 10)\n",
    "print(list(G1.edges().data()))\n",
    "plt.subplot()\n",
    "nx.draw(G1, node_color='yellow', with_labels=True)"
   ]
  },
  {
   "cell_type": "code",
   "execution_count": null,
   "metadata": {},
   "outputs": [],
   "source": [
    "ta_homes = [0,1,2,3,4]\n",
    "G1_sub = G1.subgraph(ta_homes)\n",
    "print(list(G1_sub.edges().data()))\n",
    "plt.subplot()\n",
    "nx.draw(G1_sub, node_color='yellow', with_labels=True)"
   ]
  },
  {
   "cell_type": "code",
   "execution_count": null,
   "metadata": {},
   "outputs": [],
   "source": [
    "PT = nx.minimum_spanning_tree(G1_sub)\n",
    "# print(sorted(PT.edges(data=True)))\n",
    "print(PT.edges(data=True))\n",
    "\n",
    "plt.subplot()\n",
    "nx.draw(PT, node_color='yellow', with_labels=True)"
   ]
  },
  {
   "cell_type": "code",
   "execution_count": null,
   "metadata": {},
   "outputs": [],
   "source": [
    "# TODO: implement dfs yielding pseudotour\n",
    "list(nx.dfs_edges(PT, source=0))"
   ]
  },
  {
   "cell_type": "markdown",
   "metadata": {},
   "source": [
    "# Rao drives every TA home: this is a TSP"
   ]
  },
  {
   "cell_type": "markdown",
   "metadata": {},
   "source": [
    "## Nearest Neighbor Algorithm"
   ]
  },
  {
   "cell_type": "code",
   "execution_count": null,
   "metadata": {},
   "outputs": [],
   "source": [
    "def nn_solve(list_of_locations, list_of_homes, starting_car_location, adjacency_matrix, params=[]):\n",
    "    start_idx = list_of_locations.index(starting_car_location)\n",
    "    homes_idx = [list_of_locations.index(h) for h in list_of_homes]\n",
    "    graph1, msg1 = adjacency_matrix_to_graph(adjacency_matrix)\n",
    "    path = []\n",
    "    drop_offs = {}\n",
    "    current_idx = start_idx\n",
    "    while homes_idx:\n",
    "        lst_dist = [(h_idx, nx.shortest_path_length(graph1, current_idx, h_idx, 'weight')) for h_idx in homes_idx]\n",
    "        idx, _ = min(lst_dist, key=lambda x: x[1])\n",
    "        shortest_path = nx.shortest_path(graph1, current_idx, idx, 'weight')\n",
    "        shortest_path.pop()\n",
    "        path.extend(shortest_path)\n",
    "        drop_offs[idx] = [idx]\n",
    "        current_idx = idx\n",
    "        homes_idx.remove(idx)\n",
    "    last_shortest_path = nx.shortest_path(graph1, current_idx, start_idx, 'weight')\n",
    "    path.extend(last_shortest_path)\n",
    "    return path, drop_offs"
   ]
  },
  {
   "cell_type": "code",
   "execution_count": null,
   "metadata": {},
   "outputs": [],
   "source": [
    "data = read_file('test_inputs/27_50.in')\n",
    "num_loc, num_house, lst_loc, lst_house, start_loc, adj_mat = data_parser(data)\n",
    "nn_solve(lst_loc, lst_house, start_loc, adj_mat)"
   ]
  },
  {
   "cell_type": "markdown",
   "metadata": {},
   "source": [
    "## 2-Approximation using MST"
   ]
  },
  {
   "cell_type": "markdown",
   "metadata": {},
   "source": [
    "- If the MST is connected then we can perform DFS and construct the path.\n",
    "- If the MST is not connected then we need to connect all homes by finding shortest paths between them.\n",
    "- To get the final path we look at each path in the list and check in the original graph, if there is an edge then we do nothing, but if it does not have an edge then we replace it with the shortest path between those nodes."
   ]
  },
  {
   "cell_type": "code",
   "execution_count": null,
   "metadata": {},
   "outputs": [],
   "source": [
    "def connect_homes(graph, nodes):\n",
    "    newgraph = nx.Graph()\n",
    "    newgraph.add_nodes_from(nodes)\n",
    "    for i in range(len(nodes)):\n",
    "        for j in range(i + 1, len(nodes)):\n",
    "            w = nx.shortest_path_length(graph, nodes[i], nodes[j], 'weight')\n",
    "            newgraph.add_edge(nodes[i], nodes[j], weight=w)\n",
    "    return newgraph\n",
    "    \n",
    "def mst_solve(list_of_locations, list_of_homes, starting_car_location, adjacency_matrix, params=[]):\n",
    "    start_idx = list_of_locations.index(starting_car_location)\n",
    "    homes_idx = [list_of_locations.index(h) for h in list_of_homes]\n",
    "    nodes = homes_idx + [start_idx]\n",
    "    graph, msg = adjacency_matrix_to_graph(adjacency_matrix)\n",
    "    newgraph = graph.subgraph(nodes)\n",
    "    if not nx.is_connected(newgraph):\n",
    "        newgraph = connect_homes(graph, nodes)\n",
    "    mst = nx.minimum_spanning_tree(newgraph, 'weight')\n",
    "    dfs = list(nx.dfs_edges(mst, start_idx))\n",
    "    path = [start_idx]\n",
    "    drop_offs = {}\n",
    "    if start_idx in homes_idx:\n",
    "        drop_offs[start_idx] = [start_idx]\n",
    "    current_idx = -1\n",
    "    while dfs:\n",
    "        edge = dfs.pop(0)\n",
    "        current_idx = edge[1]\n",
    "        if current_idx not in path:\n",
    "            path.append(current_idx)\n",
    "            drop_offs[current_idx] = [current_idx]\n",
    "    final_path = [path[0]]\n",
    "    for i in range(len(path)-1):\n",
    "        if graph.has_edge(path[i], path[i+1]):\n",
    "            final_path.append(path[i+1])\n",
    "        else:\n",
    "            final_path.pop()\n",
    "            final_path.extend(nx.shortest_path(graph, path[i], path[i+1], 'weight'))\n",
    "    last_shortest_path = nx.shortest_path(graph, final_path[-1], start_idx, 'weight')\n",
    "    final_path.pop()\n",
    "    final_path.extend(last_shortest_path)\n",
    "    return final_path, drop_offs"
   ]
  },
  {
   "cell_type": "code",
   "execution_count": null,
   "metadata": {},
   "outputs": [],
   "source": [
    "# data = read_file('test_inputs/1_50.in')\n",
    "data = read_file('inputs/79_200.in')\n",
    "num_loc, num_house, lst_loc, lst_house, start_loc, adj_mat = data_parser(data)\n",
    "mst_solve(lst_loc, lst_house, start_loc, adj_mat)"
   ]
  },
  {
   "cell_type": "markdown",
   "metadata": {},
   "source": [
    "## 1.5-Approximation using Christofides Algorithm"
   ]
  },
  {
   "cell_type": "code",
   "execution_count": null,
   "metadata": {},
   "outputs": [],
   "source": [
    "#code"
   ]
  },
  {
   "cell_type": "code",
   "execution_count": null,
   "metadata": {},
   "outputs": [],
   "source": [
    "#test"
   ]
  },
  {
   "cell_type": "markdown",
   "metadata": {},
   "source": [
    "## Branch-and-bound using the algorithm in the textbook"
   ]
  },
  {
   "cell_type": "code",
   "execution_count": null,
   "metadata": {},
   "outputs": [],
   "source": [
    "#code"
   ]
  },
  {
   "cell_type": "code",
   "execution_count": null,
   "metadata": {},
   "outputs": [],
   "source": [
    "#test"
   ]
  },
  {
   "cell_type": "markdown",
   "metadata": {},
   "source": [
    "## Branch-and-bound using another lower-bound"
   ]
  },
  {
   "cell_type": "code",
   "execution_count": null,
   "metadata": {},
   "outputs": [],
   "source": [
    "#code"
   ]
  },
  {
   "cell_type": "code",
   "execution_count": null,
   "metadata": {},
   "outputs": [],
   "source": [
    "#test"
   ]
  },
  {
   "cell_type": "markdown",
   "metadata": {},
   "source": [
    "# Rao drives TAs to some dropoff locations (clustering)"
   ]
  },
  {
   "cell_type": "code",
   "execution_count": null,
   "metadata": {},
   "outputs": [],
   "source": [
    "data = read_file('inputs/79_200.in')\n",
    "num_loc, num_house, list_of_locations, list_of_homes, starting_car_location, adjacency_matrix = data_parser(data)\n",
    "graph, msg = adjacency_matrix_to_graph(adjacency_matrix)\n",
    "start_idx = list_of_locations.index(starting_car_location)\n",
    "homes_idx = [list_of_locations.index(h) for h in list_of_homes]\n",
    "\n",
    "plt.figure(1)\n",
    "nx.draw(graph, with_labels=True)\n",
    "\n",
    "#first compute the best partition\n",
    "partition = community.best_partition(graph)\n",
    "\n",
    "#drawing\n",
    "plt.figure(2)\n",
    "size = float(len(set(partition.values())))\n",
    "pos = nx.spring_layout(graph)\n",
    "count = 0.\n",
    "for com in set(partition.values()) :\n",
    "#     print(type(com))\n",
    "    count = count + 1.\n",
    "    list_nodes = [nodes for nodes in partition.keys()\n",
    "                                if partition[nodes] == com]\n",
    "    nx.draw_networkx_nodes(graph, pos, list_nodes, node_size = 20,\n",
    "                                node_color = str(count / size))\n",
    "print('Number of communities: ', count)\n",
    "\n",
    "nx.draw_networkx_edges(graph, pos, alpha=0.5)\n",
    "plt.show()"
   ]
  },
  {
   "cell_type": "code",
   "execution_count": null,
   "metadata": {},
   "outputs": [],
   "source": [
    "def count_homes(k, graph, homes_idx):\n",
    "    lst = []\n",
    "    for node in graph.nodes():\n",
    "        lst_homes = []\n",
    "        neighbors = list(graph.neighbors(node))\n",
    "        for n in neighbors:\n",
    "            if n in homes_idx:\n",
    "                lst_homes.append(n)\n",
    "        if k == 2:\n",
    "            for n in neighbors:\n",
    "                for nn in graph.neighbors(n):\n",
    "                    if nn in homes_idx:\n",
    "                        lst_homes.append(nn)\n",
    "        if len(lst_homes) > 0:\n",
    "            lst.append((node, lst_homes))\n",
    "    return lst\n",
    "\n",
    "def init_pq(lst, graph, cur_idx):\n",
    "    shortest_paths = nx.shortest_path_length(graph, cur_idx, weight='weight')\n",
    "    pq = PriorityQueue()\n",
    "    for i in lst:\n",
    "        node = i[0]\n",
    "        pq.put((shortest_paths[node], i))\n",
    "    return pq\n",
    "    \n",
    "def k_layers_cluster(k, list_of_locations, list_of_homes, starting_car_location, adjacency_matrix):\n",
    "    start_idx = list_of_locations.index(starting_car_location)\n",
    "    homes_idx = [list_of_locations.index(h) for h in list_of_homes]\n",
    "    graph, msg = adjacency_matrix_to_graph(adjacency_matrix)\n",
    "    path = []\n",
    "    drop_offs = {}\n",
    "    lst = count_homes(k, graph, homes_idx)\n",
    "    cur_idx = start_idx\n",
    "    while homes_idx:\n",
    "        pq = init_pq(lst, graph, cur_idx)\n",
    "        cost, center_homes = pq.get()\n",
    "        center = center_homes[0]\n",
    "        lst_homes = center_homes[1]\n",
    "        lst_copy = lst_homes.copy()\n",
    "        for h in lst_copy:\n",
    "            if h in homes_idx:\n",
    "                homes_idx.remove(h)\n",
    "            else:\n",
    "                lst_homes.remove(h)\n",
    "        if lst_homes:\n",
    "            shortest_path = nx.shortest_path(graph, cur_idx, center, 'weight')\n",
    "            shortest_path.pop()\n",
    "            path.extend(shortest_path)\n",
    "            drop_offs[center] = lst_homes\n",
    "            cur_idx = center\n",
    "        lst.remove(center_homes)\n",
    "    last_shortest_path = nx.shortest_path(graph, cur_idx, start_idx, 'weight')\n",
    "    path.extend(last_shortest_path)\n",
    "    return path, drop_offs\n",
    "    \n",
    "def nn_cluster_solve(list_of_locations, list_of_homes, starting_car_location, adjacency_matrix, params=[]):\n",
    "    return k_layers_cluster(1, list_of_locations, list_of_homes, starting_car_location, adjacency_matrix)"
   ]
  },
  {
   "cell_type": "code",
   "execution_count": null,
   "metadata": {},
   "outputs": [],
   "source": [
    "data = read_file('inputs/79_200.in')\n",
    "num_loc, num_house, list_of_locations, list_of_homes, starting_car_location, adjacency_matrix = data_parser(data)\n",
    "nn_cluster_solve(list_of_locations, list_of_homes, starting_car_location, adjacency_matrix)"
   ]
  },
  {
   "cell_type": "code",
   "execution_count": null,
   "metadata": {},
   "outputs": [],
   "source": []
  }
 ],
 "metadata": {
  "kernelspec": {
   "display_name": "Python 3",
   "language": "python",
   "name": "python3"
  },
  "language_info": {
   "codemirror_mode": {
    "name": "ipython",
    "version": 3
   },
   "file_extension": ".py",
   "mimetype": "text/x-python",
   "name": "python",
   "nbconvert_exporter": "python",
   "pygments_lexer": "ipython3",
   "version": "3.6.9"
  },
  "toc": {
   "base_numbering": 1,
   "nav_menu": {},
   "number_sections": true,
   "sideBar": true,
   "skip_h1_title": false,
   "title_cell": "Table of Contents",
   "title_sidebar": "Contents",
   "toc_cell": false,
   "toc_position": {},
   "toc_section_display": true,
   "toc_window_display": true
  }
 },
 "nbformat": 4,
 "nbformat_minor": 2
}
